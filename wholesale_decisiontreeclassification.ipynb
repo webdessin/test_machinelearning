{
  "nbformat": 4,
  "nbformat_minor": 0,
  "metadata": {
    "colab": {
      "name": "wholesale_decisiontreeclassification.ipynb",
      "provenance": [],
      "collapsed_sections": [],
      "authorship_tag": "ABX9TyMcs75OQLtjz+Z5lnXzws9m"
    },
    "kernelspec": {
      "name": "python3",
      "display_name": "Python 3"
    },
    "language_info": {
      "name": "python"
    }
  },
  "cells": [
    {
      "cell_type": "code",
      "metadata": {
        "colab": {
          "base_uri": "https://localhost:8080/"
        },
        "id": "BPPoEMCheMuD",
        "outputId": "4761744b-cf94-4912-8b8e-c5f99f9f0cc0"
      },
      "source": [
        "!ls"
      ],
      "execution_count": null,
      "outputs": [
        {
          "output_type": "stream",
          "text": [
            "sample_data\n"
          ],
          "name": "stdout"
        }
      ]
    },
    {
      "cell_type": "code",
      "metadata": {
        "colab": {
          "base_uri": "https://localhost:8080/"
        },
        "id": "JCU6aTbIfgQC",
        "outputId": "c123451c-28ad-44b7-f215-d6c273db9aa9"
      },
      "source": [
        "!ls -l\n",
        "# d: 폴더, -: 파일, list명령어 상세 출력 결과 라인별 첫단어 의미"
      ],
      "execution_count": null,
      "outputs": [
        {
          "output_type": "stream",
          "text": [
            "total 4\n",
            "drwxr-xr-x 1 root root 4096 Jun 15 13:37 sample_data\n"
          ],
          "name": "stdout"
        }
      ]
    },
    {
      "cell_type": "code",
      "metadata": {
        "colab": {
          "base_uri": "https://localhost:8080/"
        },
        "id": "YH3xcyTRfw0Q",
        "outputId": "3511cc4c-fdd2-4786-a016-9cbd8f326aa0"
      },
      "source": [
        "!pwd"
      ],
      "execution_count": null,
      "outputs": [
        {
          "output_type": "stream",
          "text": [
            "/content\n"
          ],
          "name": "stdout"
        }
      ]
    },
    {
      "cell_type": "code",
      "metadata": {
        "colab": {
          "base_uri": "https://localhost:8080/"
        },
        "id": "Yv4Zh5ELf2Iw",
        "outputId": "38611136-ceb0-414f-bc72-8e7e2df843f6"
      },
      "source": [
        "!ls -l ./sample_data"
      ],
      "execution_count": null,
      "outputs": [
        {
          "output_type": "stream",
          "text": [
            "total 55504\n",
            "-rwxr-xr-x 1 root root     1697 Jan  1  2000 anscombe.json\n",
            "-rw-r--r-- 1 root root   301141 Jun 15 13:37 california_housing_test.csv\n",
            "-rw-r--r-- 1 root root  1706430 Jun 15 13:37 california_housing_train.csv\n",
            "-rw-r--r-- 1 root root 18289443 Jun 15 13:37 mnist_test.csv\n",
            "-rw-r--r-- 1 root root 36523880 Jun 15 13:37 mnist_train_small.csv\n",
            "-rwxr-xr-x 1 root root      930 Jan  1  2000 README.md\n"
          ],
          "name": "stdout"
        }
      ]
    },
    {
      "cell_type": "code",
      "metadata": {
        "colab": {
          "base_uri": "https://localhost:8080/"
        },
        "id": "V5Vz3bZ-gwN4",
        "outputId": "80fd4384-400d-4bc8-81c3-a27f80362aa5"
      },
      "source": [
        "!ls -l ./wholesale.xls"
      ],
      "execution_count": 6,
      "outputs": [
        {
          "output_type": "stream",
          "text": [
            "-rw-r--r-- 1 root root 46592 Jul  2 06:37 ./wholesale.xls\n"
          ],
          "name": "stdout"
        }
      ]
    },
    {
      "cell_type": "code",
      "metadata": {
        "id": "g-QzTAHKinrQ",
        "colab": {
          "base_uri": "https://localhost:8080/",
          "height": 142
        },
        "outputId": "3a0ac815-5a69-4a16-8428-f54edf56fe9d"
      },
      "source": [
        "import pandas as pd\n",
        "df = pd.read_excel('./wholesale.xls')\n",
        "df.head(3)"
      ],
      "execution_count": 9,
      "outputs": [
        {
          "output_type": "execute_result",
          "data": {
            "text/html": [
              "<div>\n",
              "<style scoped>\n",
              "    .dataframe tbody tr th:only-of-type {\n",
              "        vertical-align: middle;\n",
              "    }\n",
              "\n",
              "    .dataframe tbody tr th {\n",
              "        vertical-align: top;\n",
              "    }\n",
              "\n",
              "    .dataframe thead th {\n",
              "        text-align: right;\n",
              "    }\n",
              "</style>\n",
              "<table border=\"1\" class=\"dataframe\">\n",
              "  <thead>\n",
              "    <tr style=\"text-align: right;\">\n",
              "      <th></th>\n",
              "      <th>Unnamed: 0</th>\n",
              "      <th>Channel</th>\n",
              "      <th>Region</th>\n",
              "      <th>Fresh</th>\n",
              "      <th>Milk</th>\n",
              "      <th>Grocery</th>\n",
              "      <th>Frozen</th>\n",
              "      <th>Detergents_Paper</th>\n",
              "      <th>Delicassen</th>\n",
              "      <th>label</th>\n",
              "    </tr>\n",
              "  </thead>\n",
              "  <tbody>\n",
              "    <tr>\n",
              "      <th>0</th>\n",
              "      <td>0</td>\n",
              "      <td>2</td>\n",
              "      <td>3</td>\n",
              "      <td>12669</td>\n",
              "      <td>9656</td>\n",
              "      <td>7561</td>\n",
              "      <td>214</td>\n",
              "      <td>2674</td>\n",
              "      <td>1338</td>\n",
              "      <td>3</td>\n",
              "    </tr>\n",
              "    <tr>\n",
              "      <th>1</th>\n",
              "      <td>1</td>\n",
              "      <td>2</td>\n",
              "      <td>3</td>\n",
              "      <td>7057</td>\n",
              "      <td>9810</td>\n",
              "      <td>9568</td>\n",
              "      <td>1762</td>\n",
              "      <td>3293</td>\n",
              "      <td>1776</td>\n",
              "      <td>3</td>\n",
              "    </tr>\n",
              "    <tr>\n",
              "      <th>2</th>\n",
              "      <td>2</td>\n",
              "      <td>2</td>\n",
              "      <td>3</td>\n",
              "      <td>6353</td>\n",
              "      <td>8808</td>\n",
              "      <td>7684</td>\n",
              "      <td>2405</td>\n",
              "      <td>3516</td>\n",
              "      <td>7844</td>\n",
              "      <td>3</td>\n",
              "    </tr>\n",
              "  </tbody>\n",
              "</table>\n",
              "</div>"
            ],
            "text/plain": [
              "   Unnamed: 0  Channel  Region  ...  Detergents_Paper  Delicassen  label\n",
              "0           0        2       3  ...              2674        1338      3\n",
              "1           1        2       3  ...              3293        1776      3\n",
              "2           2        2       3  ...              3516        7844      3\n",
              "\n",
              "[3 rows x 10 columns]"
            ]
          },
          "metadata": {
            "tags": []
          },
          "execution_count": 9
        }
      ]
    },
    {
      "cell_type": "code",
      "metadata": {
        "id": "1z3WdMU_3NIk",
        "colab": {
          "base_uri": "https://localhost:8080/"
        },
        "outputId": "3e4457c2-ddf8-4d66-c977-08a605343838"
      },
      "source": [
        "Y = df['label']\n",
        "X = df.iloc[:,1:9]\n",
        "Y.shape, X.shape"
      ],
      "execution_count": 10,
      "outputs": [
        {
          "output_type": "execute_result",
          "data": {
            "text/plain": [
              "((440,), (440, 8))"
            ]
          },
          "metadata": {
            "tags": []
          },
          "execution_count": 10
        }
      ]
    },
    {
      "cell_type": "code",
      "metadata": {
        "colab": {
          "base_uri": "https://localhost:8080/"
        },
        "id": "1pmIwqhJ9TFr",
        "outputId": "fb9170cd-b110-45f6-a9de-5185087599bc"
      },
      "source": [
        "from sklearn.tree import DecisionTreeClassifier\n",
        "dtree = DecisionTreeClassifier()\n",
        "dtree.fit(X, Y)"
      ],
      "execution_count": 11,
      "outputs": [
        {
          "output_type": "execute_result",
          "data": {
            "text/plain": [
              "DecisionTreeClassifier(ccp_alpha=0.0, class_weight=None, criterion='gini',\n",
              "                       max_depth=None, max_features=None, max_leaf_nodes=None,\n",
              "                       min_impurity_decrease=0.0, min_impurity_split=None,\n",
              "                       min_samples_leaf=1, min_samples_split=2,\n",
              "                       min_weight_fraction_leaf=0.0, presort='deprecated',\n",
              "                       random_state=None, splitter='best')"
            ]
          },
          "metadata": {
            "tags": []
          },
          "execution_count": 11
        }
      ]
    },
    {
      "cell_type": "code",
      "metadata": {
        "colab": {
          "base_uri": "https://localhost:8080/"
        },
        "id": "IRX_UcnM996E",
        "outputId": "0175c02a-cba4-4cbd-8690-ae7d652eecb8"
      },
      "source": [
        "dtree.score(X, Y)"
      ],
      "execution_count": 12,
      "outputs": [
        {
          "output_type": "execute_result",
          "data": {
            "text/plain": [
              "1.0"
            ]
          },
          "metadata": {
            "tags": []
          },
          "execution_count": 12
        }
      ]
    },
    {
      "cell_type": "code",
      "metadata": {
        "id": "8zPEUOOS-FRl"
      },
      "source": [
        ""
      ],
      "execution_count": null,
      "outputs": []
    }
  ]
}